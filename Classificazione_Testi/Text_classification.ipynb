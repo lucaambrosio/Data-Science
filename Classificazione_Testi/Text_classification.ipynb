{
 "cells": [
  {
   "cell_type": "markdown",
   "metadata": {
    "slideshow": {
     "slide_type": "slide"
    }
   },
   "source": [
    "# A text classification example, step by step\n",
    "We will work with a dataset containing messages from several [usenet newsgroups](https://en.wikipedia.org/wiki/Usenet_newsgroup).  A newsgroup, in case you don't know, is just like a forum.  Before the adoption of the World Wide Web, Usenet newsgroups were among the most popular Internet services.\n",
    "\n",
    "## Load the data\n",
    "\n",
    "We'll fetch data from two newsgroups:\n",
    "- `rec.autos` for discussing about cars, and\n",
    "- `sci.space` for space nerds."
   ]
  },
  {
   "cell_type": "code",
   "execution_count": null,
   "metadata": {},
   "outputs": [],
   "source": [
    "import numpy as np\n",
    "import plotly.offline as py\n",
    "import plotly.graph_objs as go\n",
    "py.init_notebook_mode(connected=False)\n",
    "from IPython.core.display import display, HTML\n",
    "import sklearn.ensemble\n",
    "import collections"
   ]
  },
  {
   "cell_type": "markdown",
   "metadata": {
    "slideshow": {
     "slide_type": "slide"
    }
   },
   "source": [
    "The dataset is already split in separate training and testing sets.  They are split by date: the 60% oldest messages are used for training, the 40% newest for testing.  More info in the [sklearn docs](https://scikit-learn.org/stable/datasets/index.html#newsgroups-dataset) and the [dataset website](http://qwone.com/~jason/20Newsgroups/)."
   ]
  },
  {
   "cell_type": "code",
   "execution_count": null,
   "metadata": {},
   "outputs": [],
   "source": [
    "categories = ['rec.autos','sci.space']\n",
    "\n",
    "from sklearn.datasets import fetch_20newsgroups\n",
    "ds_tr = fetch_20newsgroups(subset='train',\n",
    "                           categories=categories,\n",
    "                           remove=('headers', 'footers', 'quotes')) # Keep just the messages\n",
    "ds_te = fetch_20newsgroups(subset='test',\n",
    "                           categories=categories,\n",
    "                           remove=('headers', 'footers', 'quotes'))"
   ]
  },
  {
   "cell_type": "markdown",
   "metadata": {
    "slideshow": {
     "slide_type": "slide"
    }
   },
   "source": [
    "## Understand the data\n",
    "\n",
    "Let's have a look at the training data, which is in the `ds_tr` variable "
   ]
  },
  {
   "cell_type": "code",
   "execution_count": null,
   "metadata": {},
   "outputs": [],
   "source": [
    "print(f\"We have {len(ds_tr.data)} training instances\")\n",
    "print(ds_tr.target)\n",
    "y_names = ds_tr.target_names\n",
    "for label in range(len(y_names)):\n",
    "    print(f\"y = {label} means that the message is from the {y_names[label]} newsgroup\")\n",
    "    \n",
    "# Just for peace of mind, let's make sure that\n",
    "assert(ds_tr.target_names == ds_te.target_names)"
   ]
  },
  {
   "cell_type": "markdown",
   "metadata": {},
   "source": [
    "Given a message text, we want to guess which newsgroup it comes from.  Can you?\n",
    "\n",
    "Execute the cell below again to get a new post."
   ]
  },
  {
   "cell_type": "code",
   "execution_count": null,
   "metadata": {},
   "outputs": [],
   "source": [
    "ix = np.random.randint(len(ds_tr.data))\n",
    "\n",
    "display(HTML(f'<h3>Newsgroup (select to reveal): <p style=\"color:#FFFFFF\">{y_names[ds_tr.target[ix]]}</p></h3>'))\n",
    "display(HTML('<h3>Message text:<h3>'))\n",
    "print(ds_tr.data[ix])"
   ]
  },
  {
   "cell_type": "markdown",
   "metadata": {},
   "source": [
    "## Implement a function to create a list of numeric features for a given message\n",
    "Let's begin with the simplest option. It won't work very well, but it's a start"
   ]
  },
  {
   "cell_type": "code",
   "execution_count": null,
   "metadata": {},
   "outputs": [],
   "source": [
    "def compute_features_for_string(s):\n",
    "    return [\n",
    "        len(s),       # length of the string\n",
    "        s.count(\"\\n\") # number of newlines in the string\n",
    "    ]\n",
    "\n",
    "# Test...\n",
    "compute_features_for_string(\"Hey, I'm a string with two lines\\nHello\")"
   ]
  },
  {
   "cell_type": "markdown",
   "metadata": {},
   "source": [
    "## Implement a function to compute a feature matrix for a dataset\n",
    "We'll use this function to compute features for each instance in the training set and testing set."
   ]
  },
  {
   "cell_type": "code",
   "execution_count": null,
   "metadata": {},
   "outputs": [],
   "source": [
    "def compute_features(data): # data is a list of strings\n",
    "    ret = []\n",
    "    for s in data:\n",
    "        ret.append(compute_features_for_string(s))\n",
    "    return np.array(ret)\n",
    "\n",
    "# Test...\n",
    "compute_features([\n",
    "    \"Hey, I'm a string with two lines\\nHello\",\n",
    "    \"A short string\",\n",
    "    \"A very loooooooong string\\nwith many many\\n\\n\\n\\n\\nnewlines\"\n",
    "])"
   ]
  },
  {
   "cell_type": "markdown",
   "metadata": {},
   "source": [
    "## Solve the classification problem\n",
    "We now build a feature matrix for the training and testing sets."
   ]
  },
  {
   "cell_type": "code",
   "execution_count": null,
   "metadata": {},
   "outputs": [],
   "source": [
    "X_tr = compute_features(ds_tr.data)\n",
    "y_tr = ds_tr.target\n",
    "X_te = compute_features(ds_te.data)\n",
    "y_te = ds_te.target\n",
    "\n",
    "print(X_tr.shape, y_tr.shape, sum(y_tr==0), sum(y_tr==1)) \n",
    "print(X_te.shape, y_te.shape, sum(y_te==0), sum(y_te==1))"
   ]
  },
  {
   "cell_type": "markdown",
   "metadata": {},
   "source": [
    "Let's train a classifier and evaluate it on the testing set"
   ]
  },
  {
   "cell_type": "code",
   "execution_count": null,
   "metadata": {},
   "outputs": [],
   "source": [
    "clf = sklearn.ensemble.RandomForestClassifier()\n",
    "clf.fit(X_tr, y_tr)\n",
    "\n",
    "yhat_te = clf.predict(X_te)\n",
    "yscores_te = clf.predict_proba(X_te)\n",
    "print(\"Accuracy: \",np.mean(y_te==yhat_te))\n",
    "print(\"AUC: \", sklearn.metrics.roc_auc_score(\n",
    "    y_true=y_te,\n",
    "    y_score=yscores_te[:,1]))"
   ]
  },
  {
   "cell_type": "markdown",
   "metadata": {},
   "source": [
    "Note that we used [this useful function](https://scikit-learn.org/stable/modules/generated/sklearn.metrics.roc_auc_score.html) from sklearn.\n",
    "\n",
    "The performance of our classifier is pretty poor, but still better than a trivial classifier!  Note that the problem is not the classifier itself (indeed, the random forest classifier we used is pretty powerful and used in many state-of-the-art applications!), but instead the poor features we are using.  Garbage in, garbage out.\n",
    "\n",
    "### Exercise 1\n",
    "Write a function\n",
    "```\n",
    "def draw_ROC(y_true, y_scores):\n",
    "    ...\n",
    "```\n",
    "that draws the ROC curve given:\n",
    "- the array of true labels (0 or 1)\n",
    "- the array of scores returned by the classifier for class=1\n",
    "\n",
    "In order to compute the FPR and TPR values for each threshold, you can implement the necessary function yourself or use [this function](https://scikit-learn.org/stable/modules/generated/sklearn.metrics.roc_curve.html) provided by sklearn; read the documentation and learn how to use it."
   ]
  },
  {
   "cell_type": "code",
   "execution_count": null,
   "metadata": {},
   "outputs": [],
   "source": [
    "# Solution"
   ]
  },
  {
   "cell_type": "markdown",
   "metadata": {},
   "source": [
    "### Exercise 2\n",
    "Which AUC do you expect to obtain if your features were completely useless? For example, if the features for every message were random numbers?  Compute the AUC and draw the ROC curve."
   ]
  },
  {
   "cell_type": "code",
   "execution_count": null,
   "metadata": {},
   "outputs": [],
   "source": [
    "# Solution"
   ]
  },
  {
   "cell_type": "markdown",
   "metadata": {},
   "source": [
    "### Exercise 3\n",
    "\n",
    "Make this mental experiment: \"We train a 1-nearest-neighbor classifier on our training data, and then evaluate the trained classifier **on the training data itself**\".  What accuracy value do you think you will get?\n",
    "\n",
    "Once you make up your mind, implement it and check if you guessed correctly: it's just a small change on the code above, use `sklearn.neighbors.KNeighborsClassifier(n_neighbors=1)` ([docs](https://scikit-learn.org/stable/modules/generated/sklearn.neighbors.KNeighborsClassifier.html)).  Make sure you understand the result!"
   ]
  },
  {
   "cell_type": "markdown",
   "metadata": {},
   "source": [
    "## Learn some tricks with strings, so we can extract better features\n",
    "\n",
    "### Count how many digits there are in a string"
   ]
  },
  {
   "cell_type": "code",
   "execution_count": null,
   "metadata": {},
   "outputs": [],
   "source": [
    "def count_digits(s):\n",
    "    counts = []\n",
    "    for i in range(10):\n",
    "        counts.append(s.count(str(i)))\n",
    "    return sum(counts)\n",
    "\n",
    "count_digits(\"here is a string with several digits: 0000 1111 2222 :)\")"
   ]
  },
  {
   "cell_type": "markdown",
   "metadata": {},
   "source": [
    "This is the same, but more elegant; it uses [list comprehensions](https://jakevdp.github.io/WhirlwindTourOfPython/11-list-comprehensions.html), a great python feature which looks confusing at first but is actually really useful."
   ]
  },
  {
   "cell_type": "code",
   "execution_count": null,
   "metadata": {},
   "outputs": [],
   "source": [
    "def count_digits(s):\n",
    "    return sum([s.count(str(i)) for i in range(10)])\n",
    "\n",
    "count_digits(\"here is a string with several digits: 0000 1111 2222 :)\")"
   ]
  },
  {
   "cell_type": "markdown",
   "metadata": {},
   "source": [
    "### Exercise\n",
    "Write (and test) functions for computing (some of) the following features for a given string:\n",
    "- the number of digits in the message\n",
    "- the fraction of the message's characters that are digits\n",
    "- some features computed *per line* on the input string (use [str.splitlines()](https://docs.python.org/3/library/stdtypes.html#str.splitlines)):\n",
    "    - the maximum number of digits per line\n",
    "    - the average number of characters per line\n",
    "    \n",
    "Add these features to the dataset: did the AUC improve?"
   ]
  },
  {
   "cell_type": "markdown",
   "metadata": {},
   "source": [
    "### Tokenization\n",
    "\n",
    "In python, you can tokenize strings (i.e. divide the string in words) with the `str.split()` method, like this"
   ]
  },
  {
   "cell_type": "code",
   "execution_count": null,
   "metadata": {},
   "outputs": [],
   "source": [
    "\"hey, i'm a string\\nand you should split me.\".split()"
   ]
  },
  {
   "cell_type": "markdown",
   "metadata": {},
   "source": [
    "However, note that the result is not perfect. I.e. there is a comma after \"hey\".  We could do better with some ad-hoc regex, but if you think about it solving this properly is complicated.  Just because it's so easy, we'll use a proper library for tokenizing words in english text, from NLTK, the [Natural Language Toolkit](https://www.nltk.org/).\n",
    "\n",
    "You'll need to install `nltk` (super easy with conda).  If you have problem installing NLTK, feel free to use str.split.  Otherwise..."
   ]
  },
  {
   "cell_type": "code",
   "execution_count": null,
   "metadata": {},
   "outputs": [],
   "source": [
    "import nltk\n",
    "nltk.word_tokenize(\"hey, i'm a string. Don't split me!\")"
   ]
  },
  {
   "cell_type": "markdown",
   "metadata": {},
   "source": [
    "Note that:\n",
    "- the comma is a separate token\n",
    "- the `'m` in `i'm` is a token by itself (which is correct, because it stands for \"am\")\n",
    "- the `n't` in `don't` is a token by itself (which is correct, because it stands for \"not\")"
   ]
  },
  {
   "cell_type": "markdown",
   "metadata": {},
   "source": [
    "### Get all words in a message"
   ]
  },
  {
   "cell_type": "code",
   "execution_count": null,
   "metadata": {},
   "outputs": [],
   "source": [
    "words = nltk.word_tokenize(\"This is a message!\")\n",
    "print(\"is\" in words)\n",
    "print(\"age\" in words) # We are looking for a full word, not a word part\n",
    "print(\"this\" in words) # Careful! Case sensitive..."
   ]
  },
  {
   "cell_type": "markdown",
   "metadata": {},
   "source": [
    "Let's forget case and only operate on lowercase words"
   ]
  },
  {
   "cell_type": "code",
   "execution_count": null,
   "metadata": {},
   "outputs": [],
   "source": [
    "\"HeY\".lower()"
   ]
  },
  {
   "cell_type": "code",
   "execution_count": null,
   "metadata": {},
   "outputs": [],
   "source": [
    "message = \"This is a message!\"\n",
    "words = nltk.word_tokenize(message)\n",
    "lwords = []\n",
    "for w in words:\n",
    "    lwords.append(w.lower())\n",
    "lwords"
   ]
  },
  {
   "cell_type": "markdown",
   "metadata": {},
   "source": [
    "Or, better, using list comprehension:"
   ]
  },
  {
   "cell_type": "code",
   "execution_count": null,
   "metadata": {},
   "outputs": [],
   "source": [
    "lwords = [w.lower() for w in nltk.word_tokenize(message)]\n",
    "lwords"
   ]
  },
  {
   "cell_type": "markdown",
   "metadata": {},
   "source": [
    "### Is there a given word in the message?\n",
    "You can use the `in` operator"
   ]
  },
  {
   "cell_type": "code",
   "execution_count": null,
   "metadata": {},
   "outputs": [],
   "source": [
    "print(\"this\" in lwords)"
   ]
  },
  {
   "cell_type": "markdown",
   "metadata": {},
   "source": [
    "### Which words are in the message?\n",
    "For each word in a vocabulary, we want to know whether it's in the message or not.\n",
    "\n",
    "We are computing something similar to the [bag-of-words model](https://en.wikipedia.org/wiki/Bag-of-words_model) which is frequently used in Natural Language Processing."
   ]
  },
  {
   "cell_type": "code",
   "execution_count": null,
   "metadata": {},
   "outputs": [],
   "source": [
    "vocabulary = [\"message\", \"mickey\", \"one\"]\n",
    "\n",
    "presence = []\n",
    "for v in vocabulary:\n",
    "    presence.append(v in lwords)\n",
    "presence"
   ]
  },
  {
   "cell_type": "code",
   "execution_count": null,
   "metadata": {},
   "outputs": [],
   "source": [
    "# or equivalently with list comprehensions\n",
    "presence = [(v in lwords) for v in vocabulary]\n",
    "presence"
   ]
  },
  {
   "cell_type": "markdown",
   "metadata": {},
   "source": [
    "Let's now define a meaningful vocabulary and use the presence (or absence) of each word in each message as a feature. Note that we are *not* telling the classifier whether a feature should be indicative of one class or the other.  Also, in this way we might add irrelevant features, but we expect the classifier to figure that out and not be too confused (unless we add too many of them)."
   ]
  },
  {
   "cell_type": "code",
   "execution_count": null,
   "metadata": {},
   "outputs": [],
   "source": [
    "def compute_features_for_string(s, vocabulary):\n",
    "    lwords = [w.lower() for w in nltk.word_tokenize(s)]\n",
    "    presence = [(v in lwords) for v in vocabulary]\n",
    "    ret = [len(s),s.count(\"\\n\")] + presence # the + concatenates two lists\n",
    "    return ret\n",
    "\n",
    "def compute_features(data, vocabulary):\n",
    "    ret = []\n",
    "    for s in data:\n",
    "        ret.append(compute_features_for_string(s, vocabulary))\n",
    "    return np.array(ret)\n",
    "\n",
    "vocabulary = [\"car\",\"engine\",\"auto\",\"moon\",\"planet\",\n",
    "              \"ford\",\"piston\",\"fuel\",\"entry\",\"atmosphere\"]\n",
    "\n",
    "X_tr = compute_features(ds_tr.data, vocabulary)\n",
    "y_tr = ds_tr.target\n",
    "X_te = compute_features(ds_te.data, vocabulary)\n",
    "y_te = ds_te.target\n",
    "\n",
    "clf = sklearn.ensemble.RandomForestClassifier(n_estimators=100)\n",
    "clf.fit(X_tr,y_tr)\n",
    "yhat_te = clf.predict_proba(X_te)\n",
    "\n",
    "auc = sklearn.metrics.roc_auc_score(y_te, yhat_te[:,1])\n",
    "accuracy = sklearn.metrics.accuracy_score(y_te, yhat_te[:,1]>0.5)\n",
    "print(\"AUC: \",auc)\n",
    "print(\"Accuracy: \",auc)"
   ]
  },
  {
   "cell_type": "markdown",
   "metadata": {},
   "source": [
    "### Challenge!\n",
    "Can you get to AUC > 0.85 by adding less than 5 additional words to the vocabulary?\n",
    "What AUC can you get if you use 30 words in total?\n",
    "\n",
    "Note: every time you train the random forest classifier, it will be (slightly) different because the training algorithm is stochastic, so the AUC will change a little bit."
   ]
  },
  {
   "cell_type": "markdown",
   "metadata": {},
   "source": [
    "### Looking for frequent words in the dataset\n",
    "You can use the `collections.Counter()` Python class ([docs](https://docs.python.org/3.7/library/collections.html#collections.Counter)).\n",
    "\n",
    "It works like this:"
   ]
  },
  {
   "cell_type": "code",
   "execution_count": null,
   "metadata": {},
   "outputs": [],
   "source": [
    "c = collections.Counter()\n",
    "c.update([\"red\",\"red\",\"blue\"])\n",
    "print(c)\n",
    "c.update([\"violet\",\"red\",\"red\",\"green\",\"green\"])\n",
    "print(c)\n",
    "print(c.most_common(2)) # The two most common elements"
   ]
  },
  {
   "cell_type": "markdown",
   "metadata": {},
   "source": [
    "Let's use a counter to find the most frequent words in the dataset."
   ]
  },
  {
   "cell_type": "code",
   "execution_count": null,
   "metadata": {
    "slideshow": {
     "slide_type": "slide"
    }
   },
   "outputs": [],
   "source": [
    "c = collections.Counter()\n",
    "for s in ds_tr.data:\n",
    "    lwords = [w.lower() for w in nltk.word_tokenize(s)]\n",
    "    c.update(lwords)\n",
    "c.most_common(1000)"
   ]
  },
  {
   "cell_type": "markdown",
   "metadata": {},
   "source": [
    "Let's put the 200 most common words in a list"
   ]
  },
  {
   "cell_type": "code",
   "execution_count": null,
   "metadata": {},
   "outputs": [],
   "source": [
    "vocabulary = []\n",
    "for w,count in c.most_common(200): # we are using tuple unpacking here\n",
    "    vocabulary.append(w)\n",
    "vocabulary"
   ]
  },
  {
   "cell_type": "code",
   "execution_count": null,
   "metadata": {},
   "outputs": [],
   "source": [
    "# Better yet, with a list comprehension\n",
    "vocabulary = [w for w,count in c.most_common(200)]"
   ]
  },
  {
   "cell_type": "markdown",
   "metadata": {},
   "source": [
    "### Exercise\n",
    "What AUC can you get if you use the $N$ most common words in the vocabulary for computing features?\n",
    "Compute the AUC vs $N$ for $N = {10, 20, 40, 100, 200, 400, 1000, 2000, 4000, 10000}$.\n",
    "\n",
    "Plot the results with a blue line (using `go.Scatter(..., mode = 'lines+markers')`), with $N$ on $x$ and the AUC on $y$."
   ]
  },
  {
   "cell_type": "markdown",
   "metadata": {},
   "source": [
    "## Advanced: *stemming*\n",
    "Did you notice that, so far, we considered similar words such as \"car\" vs \"cars\" (or \"launch\" vs \"launched\") as different words? That's probably not ideal.  It would be great if we could reduce all words to a \"simple\" form, so that we count both \"car\" and \"cars\" as the same word.  This operation in the Natural Language Processing literature  is called *stemming* (closely related: *lemmatization*).  Read about them [here](https://nlp.stanford.edu/IR-book/html/htmledition/stemming-and-lemmatization-1.html)."
   ]
  },
  {
   "cell_type": "code",
   "execution_count": null,
   "metadata": {},
   "outputs": [],
   "source": [
    "from nltk.stem.porter import PorterStemmer\n",
    "ps = PorterStemmer()\n",
    "for word in [\"car\", \"cars\", \"launch\", \"launched\", \"missile\", \"missiles\", \"missilistic\", \"transparent\", \n",
    "             \"biology\", \"biologic\"]:\n",
    "    print(f\"{word} → {ps.stem(word)}\")"
   ]
  },
  {
   "cell_type": "markdown",
   "metadata": {},
   "source": [
    "Let's apply a stemmer to all the words of a random message in the training set.  Note that some stems do not correspond to real words: that's OK.  Run the cell again to see another message."
   ]
  },
  {
   "cell_type": "code",
   "execution_count": null,
   "metadata": {},
   "outputs": [],
   "source": [
    "ix = np.random.randint(len(ds_tr.data))\n",
    "s = ds_tr.data[ix]\n",
    "\n",
    "print()\n",
    "\n",
    "words = nltk.word_tokenize(s)\n",
    "for w in words:\n",
    "    print(ps.stem(w), end=\" \")"
   ]
  },
  {
   "cell_type": "markdown",
   "metadata": {},
   "source": [
    "### Exercise (difficult)\n",
    "How does the performance of our classifier change if instead of using the presence of words as features, we use the presence of words *that stem in a given way*?  Note that the motivation of this change is similar to the reason why we used `str.lower()` previously.  And the implementation is very similar.  You should:\n",
    "- Compute the $N$ most frequent word stems in the training data.  Use those as a `stem_vocabulary`.\n",
    "- For each message: tokenize it, convert each token to lowercase and extract its stem.  Then, check if each element in `stem_vocabulary` is in the message.\n",
    "\n",
    "Compare the performance of the classifier which uses these features to the performance of the classifier that uses the presence of unstemmed words as features (which you computed in a previous exercise).\n",
    "\n",
    "The cell below solves the first point (computing `stem_vocabulary`)."
   ]
  },
  {
   "cell_type": "code",
   "execution_count": null,
   "metadata": {},
   "outputs": [],
   "source": [
    "c = collections.Counter()\n",
    "for s in ds_tr.data:\n",
    "    stems = [ps.stem(w.lower()) for w in nltk.word_tokenize(s)]\n",
    "    c.update(stems)\n",
    "N = 200\n",
    "stem_vocabulary = [stem for stem,count in c.most_common(N)]"
   ]
  },
  {
   "cell_type": "markdown",
   "metadata": {},
   "source": [
    "## Examining the results of the classifier\n",
    "Let's print the classifier predictions (you can do this with any classifier, but it is more fun if it works reasonably well, i.e. AUC > 0.8).\n",
    "\n",
    "Make sure the classifier scores are in variable `yscores_te`."
   ]
  },
  {
   "cell_type": "code",
   "execution_count": null,
   "metadata": {
    "slideshow": {
     "slide_type": "slide"
    }
   },
   "outputs": [],
   "source": [
    "for i in range(len(ds_te.data)):\n",
    "    print(f\"Instance {i} - True class {y_te[i]} =====================================\")\n",
    "    for c in [0,1]:\n",
    "        print(f\"Class {c} ({y_names[c]}) score: {yscores_te[i,c]:0.2f}\")\n",
    "    print()\n",
    "    print(ds_te.data[i])\n",
    "    print()"
   ]
  },
  {
   "cell_type": "markdown",
   "metadata": {},
   "source": [
    "### Exercise (easy)\n",
    "Change the cell above in order to write for each instance whether the classifier estimate is correct or not."
   ]
  },
  {
   "cell_type": "markdown",
   "metadata": {},
   "source": [
    "### Exercise (easy)\n",
    "Display only the messages that were classified wrong"
   ]
  },
  {
   "cell_type": "markdown",
   "metadata": {},
   "source": [
    "### Exercise (medium)\n",
    "Sort the messages from the one where the classifier was *most wrong* (i.e. where the classifier assigned a very low score to the true class) to the one in which it was *most right* (i.e. where the classifier assigned a very high score to the true class)."
   ]
  },
  {
   "attachments": {
    "image.png": {
     "image/png": "[encoded data removed]"
    }
   },
   "cell_type": "markdown",
   "metadata": {
    "slideshow": {
     "slide_type": "slide"
    }
   },
   "source": [
    "### Exercise\n",
    "- Consider only the testing observations with true class = 1.  Draw the histogram of the score for **class 1** returned by the classifier for these observations.  Do we want these scores to be high or low?\n",
    "- Consider only the testing observations with true class = 0.  Draw the histogram of the score for **class 1** returned by the classifier for these observations.  Do we want these scores to be high or low?  Note: if the classifier is good, it should return high scores for class 0, which means that the scores for class 1 will be ...?\n",
    "- Draw both histograms on the same axes\n",
    "\n",
    "Results should look similar to this:\n",
    "![image.png](attachment:image.png)"
   ]
  },
  {
   "cell_type": "markdown",
   "metadata": {},
   "source": [
    "### Exercise\n",
    "Write a cell that, given some text (you can use the `input()` function) prints the predictions of the classifier.\n",
    "Assume you have a trained classifier and a function to compute the features (careful: should be the same type on which the classifier has been trained on!!)."
   ]
  },
  {
   "attachments": {
    "image.png": {
     "image/png": "[encoded data removed]"
    }
   },
   "cell_type": "markdown",
   "metadata": {
    "slideshow": {
     "slide_type": "slide"
    }
   },
   "source": [
    "## Exercise: extend to all 20 newsgroups!\n",
    "We just used data from 2 newsgroups so far, but the dataset contains 20 of them.  You can download all the data as shown in the cell below.\n",
    "\n",
    "Decide on a feature extraction method and train a classifier; then apply it to the testing set. How can you evaluate it?\n",
    "- Compute the accuracy; is it good? What is the baseline accuracy?  Note: you can find the baseline accuracy also by training and evaluating a [dummy classifier](https://scikit-learn.org/stable/modules/generated/sklearn.dummy.DummyClassifier.html). \n",
    "- Compute the confusion matrix manually or using [sklearn.metrics.confusion_matrix(...)](https://scikit-learn.org/stable/modules/generated/sklearn.metrics.confusion_matrix.html) then display it.  Reading a 20x20 matrix of numbers is not very nice, isn't it?\n",
    "- A good way to visualize patterns in the confusion matrix is to draw it as an heatmap ([plotly docs](https://plot.ly/python/heatmaps/)).  Explore its options, and make sure you use the correct labels for the x/y axes but also for the x/y ticks: i.e. every row and column of the matrix should be annotated with the corresponding newsgroup.\n",
    "\n",
    "The expected result looks like this:\n",
    "![image.png](attachment:image.png)"
   ]
  },
  {
   "cell_type": "code",
   "execution_count": null,
   "metadata": {},
   "outputs": [],
   "source": [
    "from sklearn.datasets import fetch_20newsgroups\n",
    "ds_tr = fetch_20newsgroups(subset='train',remove=('headers', 'footers', 'quotes'))\n",
    "ds_te = fetch_20newsgroups(subset='test', remove=('headers', 'footers', 'quotes'))\n",
    "y_names = ds_tr.target_names"
   ]
  },
  {
   "cell_type": "markdown",
   "metadata": {},
   "source": [
    "Hint: once you have your predictions for the test set, use this code to plot a confusion matrix like described above\n",
    "\n",
    "```\n",
    "cm = sklearn.metrics.confusion_matrix(...)\n",
    "trace = go.Heatmap(z=cm,\n",
    "                   x=y_names,\n",
    "                   y=y_names)\n",
    "fig = dict(data=[trace],\n",
    "           layout=dict(\n",
    "               yaxis=dict(\n",
    "                   title=\"true class\",\n",
    "                   autorange='reversed',\n",
    "                   automargin=True,\n",
    "                   tickfont=dict(size=10)),\n",
    "               xaxis=dict(\n",
    "                   title=\"predicted class\",\n",
    "                   automargin=True,\n",
    "                   tickfont=dict(size=8))))\n",
    "py.iplot(fig)\n",
    "```"
   ]
  },
  {
   "cell_type": "markdown",
   "metadata": {},
   "source": [
    "## Exercise\n",
    "For each message in the test set, print:\n",
    "- a) its true class\n",
    "- b) the 5 top predicted classes and their scores, sorted by descending score (first the top-scoring one)\n",
    "- c) whether the message has been correctly classified"
   ]
  },
  {
   "cell_type": "code",
   "execution_count": null,
   "metadata": {},
   "outputs": [],
   "source": [
    "for i,s in enumerate(ds_te.data[:100]):\n",
    "    print(\"█████████████████████████████████████████████████████\")\n",
    "    print(f\"Testing instance {i} - True class {y_names[y_te[i]]}\")\n",
    "    for j in np.argsort(yscores_te[i,:])[:-6:-1]:\n",
    "        print(f\"Score for {y_names[j]}: {yscores_te[i,j]:.3f}\")\n",
    "    print(f\"Text:\\n{s}\\n\")"
   ]
  },
  {
   "cell_type": "markdown",
   "metadata": {},
   "source": [
    "Below, we report the results of points a and b above on the first 20 messages of the testing set.\n",
    "\n",
    "```\n",
    "█████████████████████████████████████████████████████\n",
    "Testing instance 0 - True class rec.autos\n",
    "Score for sci.med: 0.110\n",
    "Score for sci.electronics: 0.110\n",
    "Score for comp.sys.ibm.pc.hardware: 0.080\n",
    "Score for sci.space: 0.070\n",
    "Score for comp.sys.mac.hardware: 0.070\n",
    "Text:\n",
    "I am a little confused on all of the models of the 88-89 bonnevilles.\n",
    "I have heard of the LE SE LSE SSE SSEI. Could someone tell me the\n",
    "differences are far as features or performance. I am also curious to\n",
    "know what the book value is for prefereably the 89 model. And how much\n",
    "less than book value can you usually get them for. In other words how\n",
    "much are they in demand this time of year. I have heard that the mid-spring\n",
    "early summer is the best time to buy.\n",
    "\n",
    "█████████████████████████████████████████████████████\n",
    "Testing instance 1 - True class comp.windows.x\n",
    "Score for comp.graphics: 0.120\n",
    "Score for alt.atheism: 0.110\n",
    "Score for sci.electronics: 0.110\n",
    "Score for talk.politics.mideast: 0.070\n",
    "Score for comp.sys.mac.hardware: 0.060\n",
    "Text:\n",
    "I'm not familiar at all with the format of these \"X-Face:\" thingies, but\n",
    "after seeing them in some folks' headers, I've *got* to *see* them (and\n",
    "maybe make one of my own)!\n",
    "\n",
    "I've got \"dpg-view\" on my Linux box (which displays \"uncompressed X-Faces\")\n",
    "and I've managed to compile [un]compface too... but now that I'm *looking*\n",
    "for them, I can't seem to find any X-Face:'s in anyones news headers!  :-(\n",
    "\n",
    "Could you, would you, please send me your \"X-Face:\" header?\n",
    "\n",
    "I *know* I'll probably get a little swamped, but I can handle it.\n",
    "\n",
    "\t...I hope.\n",
    "\n",
    "█████████████████████████████████████████████████████\n",
    "Testing instance 2 - True class alt.atheism\n",
    "Score for misc.forsale: 0.180\n",
    "Score for rec.motorcycles: 0.130\n",
    "Score for talk.politics.misc: 0.110\n",
    "Score for rec.sport.baseball: 0.090\n",
    "Score for alt.atheism: 0.090\n",
    "Text:\n",
    "\n",
    "In a word, yes.\n",
    "\n",
    "\n",
    "█████████████████████████████████████████████████████\n",
    "Testing instance 3 - True class talk.politics.mideast\n",
    "Score for talk.politics.misc: 0.200\n",
    "Score for talk.politics.mideast: 0.180\n",
    "Score for talk.politics.guns: 0.150\n",
    "Score for sci.crypt: 0.110\n",
    "Score for soc.religion.christian: 0.060\n",
    "Text:\n",
    "\n",
    "They were attacking the Iraqis to drive them out of Kuwait,\n",
    "a country whose citizens have close blood and business ties\n",
    "to Saudi citizens.  And me thinks if the US had not helped out\n",
    "the Iraqis would have swallowed Saudi Arabia, too (or at \n",
    "least the eastern oilfields).  And no Muslim country was doing\n",
    "much of anything to help liberate Kuwait and protect Saudi\n",
    "Arabia; indeed, in some masses of citizens were demonstrating\n",
    "in favor of that butcher Saddam (who killed lotsa Muslims),\n",
    "just because he was killing, raping, and looting relatively\n",
    "rich Muslims and also thumbing his nose at the West.\n",
    "\n",
    "So how would have *you* defended Saudi Arabia and rolled\n",
    "back the Iraqi invasion, were you in charge of Saudi Arabia???\n",
    "\n",
    "\n",
    "I think that it is a very good idea to not have governments have an\n",
    "official religion (de facto or de jure), because with human nature\n",
    "like it is, the ambitious and not the pious will always be the\n",
    "ones who rise to power.  There are just too many people in this\n",
    "world (or any country) for the citizens to really know if a \n",
    "leader is really devout or if he is just a slick operator.\n",
    "\n",
    "\n",
    "You make it sound like these guys are angels, Ilyess.  (In your\n",
    "clarinet posting you edited out some stuff; was it the following???)\n",
    "Friday's New York Times reported that this group definitely is\n",
    "more conservative than even Sheikh Baz and his followers (who\n",
    "think that the House of Saud does not rule the country conservatively\n",
    "enough).  The NYT reported that, besides complaining that the\n",
    "government was not conservative enough, they have:\n",
    "\n",
    "\t- asserted that the (approx. 500,000) Shiites in the Kingdom\n",
    "\t  are apostates, a charge that under Saudi (and Islamic) law\n",
    "\t  brings the death penalty.  \n",
    "\n",
    "\t  Diplomatic guy (Sheikh bin Jibrin), isn't he Ilyess?\n",
    "\n",
    "\t- called for severe punishment of the 40 or so women who\n",
    "\t  drove in public a while back to protest the ban on\n",
    "\t  women driving.  The guy from the group who said this,\n",
    "\t  Abdelhamoud al-Toweijri, said that these women should\n",
    "\t  be fired from their jobs, jailed, and branded as\n",
    "\t  prostitutes.\n",
    "\n",
    "\t  Is this what you want to see happen, Ilyess?  I've\n",
    "\t  heard many Muslims say that the ban on women driving\n",
    "\t  has no basis in the Qur'an, the ahadith, etc.\n",
    "\t  Yet these folks not only like the ban, they want\n",
    "\t  these women falsely called prostitutes?  \n",
    "\n",
    "\t  If I were you, I'd choose my heroes wisely,\n",
    "\t  Ilyess, not just reflexively rally behind\n",
    "\t  anyone who hates anyone you hate.\n",
    "\n",
    "\t- say that women should not be allowed to work.\n",
    "\n",
    "\t- say that TV and radio are too immoral in the Kingdom.\n",
    "\n",
    "Now, the House of Saud is neither my least nor my most favorite government\n",
    "on earth; I think they restrict religious and political reedom a lot, among\n",
    "other things.  I just think that the most likely replacements\n",
    "for them are going to be a lot worse for the citizens of the country.\n",
    "But I think the House of Saud is feeling the heat lately.  In the\n",
    "last six months or so I've read there have been stepped up harassing\n",
    "by the muttawain (religious police---*not* government) of Western women\n",
    "not fully veiled (something stupid for women to do, IMO, because it\n",
    "sends the wrong signals about your morality).  And I've read that\n",
    "they've cracked down on the few, home-based expartiate religious\n",
    "gatherings, and even posted rewards in (government-owned) newspapers\n",
    "offering money for anyone who turns in a group of expartiates who\n",
    "dare worship in their homes or any other secret place. So the\n",
    "government has grown even more intolerant to try to take some of\n",
    "the wind out of the sails of the more-conservative opposition.\n",
    "As unislamic as some of these things are, they're just a small\n",
    "taste of what would happen if these guys overthrow the House of\n",
    "Saud, like they're trying to in the long run.\n",
    "\n",
    "Is this really what you (and Rached and others in the general\n",
    "west-is-evil-zionists-rule-hate-west-or-you-are-a-puppet crowd)\n",
    "want, Ilyess?\n",
    "\n",
    "\n",
    "█████████████████████████████████████████████████████\n",
    "Testing instance 4 - True class talk.religion.misc\n",
    "Score for talk.religion.misc: 0.160\n",
    "Score for alt.atheism: 0.110\n",
    "Score for comp.sys.ibm.pc.hardware: 0.090\n",
    "Score for rec.autos: 0.080\n",
    "Score for rec.motorcycles: 0.060\n",
    "Text:\n",
    "\n",
    "I've just spent two solid months arguing that no such thing as an\n",
    "objective moral system exists.\n",
    "\n",
    "█████████████████████████████████████████████████████\n",
    "Testing instance 5 - True class sci.med\n",
    "Score for sci.med: 0.120\n",
    "Score for talk.religion.misc: 0.110\n",
    "Score for soc.religion.christian: 0.090\n",
    "Score for talk.politics.misc: 0.070\n",
    "Score for alt.atheism: 0.070\n",
    "Text:\n",
    "\n",
    "Elisabeth, let's set the record straight for the nth time, I have not read \n",
    "\"The Yeast Connection\".  So anything that I say is not due to brainwashing \n",
    "by this \"hated\" book.  It's okay I guess to hate the book, by why hate me?\n",
    "Elisabeth, I'm going to quote from Zinsser's Microbiology, 20th Edition.\n",
    "A book that you should be familiar with and not \"hate\". \"Candida species \n",
    "colonize the mucosal surfaces of all humans during birth or shortly \n",
    "thereafter.  The risk of endogenous infection is clearly ever present.  \n",
    "Indeed, candidiasis occurs worldwide and is the most common systemic \n",
    "mycosis.\"  Neutrophils play the main role in preventing a systemic \n",
    "infection(candidiasis) so you would have to have a low neutrophil count or \n",
    "\"sick\" neutrophils to see a systemic infection.  Poor diet and persistent \n",
    "parasitic infestation set many third world residents up for candidiasis.\n",
    "Your assessment of candidiasis in the U.S. is correct and I do not dispute \n",
    "it.\n",
    "\n",
    "What I posted was a discussion of candida blooms, without systemic \n",
    "infection.  These blooms would be responsible for local sites of irritation\n",
    "(GI tract, mouth, vagina and sinus cavity).  Knocking down the bacterial \n",
    "competition for candida was proposed as a possible trigger for candida \n",
    "blooms.  Let me quote from Zinsser's again: \"However, some factors, such as \n",
    "the use of a broad-spectrum antibacterial antibiotic, may predispose to \n",
    "both mucosal and systemic infections\".  I was addressing mucosal infections\n",
    "(I like the term blooms better).  The nutrition course that I teach covers \n",
    "this effect of antibiotic treatment as well as the \"cure\".  I guess that \n",
    "your nutrition course does not, too bad.  \n",
    "\n",
    "\n",
    "\n",
    "My, my Elisabeth, do I detect a little of Steve Dyer in you?  If you \n",
    "noticed my faculty rank, I'm a biochemist, not a microbiologist.\n",
    "Candida is classifed as a fungus(according to Zinsser's).  But, as you point \n",
    "out, it displays dimorphism.  It is capable of producing yeast cells, \n",
    "pseudohyphae and true hyphae.  Elisabeth, you are probably a microbiologist \n",
    "and that makes a lot of sense to you.  To a biochemist, it's a lot of \n",
    "Greek.  So I called it a yeast-like fungus, go ahead and crucify me.\n",
    "\n",
    "You know Elisabeth, I still haven't been able to figure out why such a small \n",
    "little organism like Candida can bring out so much hostility in people in \n",
    "Sci. Med.  And I must admitt that I got sucked into the mud slinging too.\n",
    "I keep hoping that if people will just take the time to think about what \n",
    "I've said, that it will make sense.  I'm not asking anyone here to buy into \n",
    "\"The Yeast Connection\" book because I don't know what's in that book, plain \n",
    "and simple. And to be honest with you, I'm beginning to wish that it was never \n",
    "written.\n",
    "\n",
    "█████████████████████████████████████████████████████\n",
    "Testing instance 6 - True class soc.religion.christian\n",
    "Score for rec.sport.baseball: 0.190\n",
    "Score for rec.motorcycles: 0.110\n",
    "Score for talk.politics.misc: 0.100\n",
    "Score for rec.sport.hockey: 0.090\n",
    "Score for talk.religion.misc: 0.080\n",
    "Text:\n",
    "Dishonest money dwindles away, but he who gathers money little by little makes\n",
    "it grow. \n",
    "Proverbs 13:11\n",
    "\n",
    "\n",
    "█████████████████████████████████████████████████████\n",
    "Testing instance 7 - True class soc.religion.christian\n",
    "Score for comp.graphics: 0.280\n",
    "Score for sci.med: 0.110\n",
    "Score for comp.os.ms-windows.misc: 0.100\n",
    "Score for rec.motorcycles: 0.060\n",
    "Score for comp.windows.x: 0.060\n",
    "Text:\n",
    "A friend of mine managed to get a copy of a computerised Greek and Hebrew \n",
    "Lexicon called \"The Word Perfect\" (That is not the word processing \n",
    "package WordPerfect). However, some one wiped out the EXE file, and she \n",
    "has not been able to restore it. There are no distributors of the package in \n",
    "South Africa. I would appreciate it, if some one could email me the file, or \n",
    "at least tell me where I could get it from. \n",
    "\n",
    "My email address is\n",
    "\tfortmann@superbowl.und.ac.za     or\n",
    "\tfortmann@shrike.und.ac.za\n",
    " \n",
    "Many thanks.\n",
    "\n",
    "█████████████████████████████████████████████████████\n",
    "Testing instance 8 - True class comp.windows.x\n",
    "Score for comp.windows.x: 0.490\n",
    "Score for comp.os.ms-windows.misc: 0.080\n",
    "Score for comp.graphics: 0.080\n",
    "Score for sci.electronics: 0.050\n",
    "Score for comp.sys.ibm.pc.hardware: 0.040\n",
    "Text:\n",
    "Hi,\n",
    "\n",
    "   We have a requirement for dynamically closing and opening\n",
    "different display servers within an X application in a manner such\n",
    "that at any time there is only one display associated with the client.\n",
    "\n",
    "   Assumming a proper cleanup is done during the transition should\n",
    "we anticipate any problems.\n",
    "\n",
    "\n",
    "█████████████████████████████████████████████████████\n",
    "Testing instance 9 - True class comp.graphics\n",
    "Score for comp.graphics: 0.310\n",
    "Score for comp.sys.ibm.pc.hardware: 0.140\n",
    "Score for sci.electronics: 0.090\n",
    "Score for comp.sys.mac.hardware: 0.060\n",
    "Score for sci.med: 0.050\n",
    "Text:\n",
    ":  \n",
    ": well, i have lots of experience with scanning in images and altering\n",
    ": them.  as for changing them back into negatives, is that really possible?\n",
    "\n",
    ": (stuff deleted)\n",
    "\n",
    ": jennifer urso:  the oh-so bitter woman of utter blahness(but cheerful\n",
    ": undertones)\n",
    "\n",
    "I use Aldus Photostyler on the PC and I can turn a colour or black and white\n",
    "image into a negative or turn a negative into a colour or black and white\n",
    "image.  I don't know how it does it but it works well.  To test it I scanned\n",
    "a negative and used Aldus to create a positive.  It looked better than the\n",
    "print that the film developers gave me.\n",
    "\n",
    "\n",
    "-- \n",
    "\n",
    "█████████████████████████████████████████████████████\n",
    "Testing instance 10 - True class comp.os.ms-windows.misc\n",
    "Score for comp.os.ms-windows.misc: 0.760\n",
    "Score for comp.sys.ibm.pc.hardware: 0.080\n",
    "Score for comp.graphics: 0.040\n",
    "Score for rec.sport.baseball: 0.020\n",
    "Score for misc.forsale: 0.020\n",
    "Text:\n",
    "I have uploaded the Windows On-Line Review shareware edition to\n",
    "ftp.cica.indiana.edu as /pub/pc/win3/uploads/wolrs7.zip.\n",
    "\n",
    "It is an on-line magazine which contains reviews of some shareware\n",
    "products...I grabbed it from the Windows On-Line BBS.\n",
    "\n",
    "--\n",
    "\n",
    "█████████████████████████████████████████████████████\n",
    "Testing instance 11 - True class comp.windows.x\n",
    "Score for comp.graphics: 0.380\n",
    "Score for comp.windows.x: 0.330\n",
    "Score for comp.sys.ibm.pc.hardware: 0.080\n",
    "Score for comp.sys.mac.hardware: 0.070\n",
    "Score for comp.os.ms-windows.misc: 0.030\n",
    "Text:\n",
    "Most graphics systems I have seen have drawing routines that also specify\n",
    "a color for drawing, like\n",
    "\n",
    "Drawpoint(x,y,color) or Drawline(x1,y1,x2,y2,color) or\n",
    "Fillrectangle(x1,y1,x2,y2,color) \n",
    "\n",
    "With X, I have to do something like \n",
    "XSetForeground(current_color)\n",
    "XDrawPoint(d,w,x,y)\n",
    "\n",
    "Why split this into two functions? Why did X designers decide to not associate\n",
    "the color with the object being drawn, and instead associate it with the\n",
    "display it is being drawn on?\n",
    "\n",
    "█████████████████████████████████████████████████████\n",
    "Testing instance 12 - True class talk.politics.mideast\n",
    "Score for talk.politics.mideast: 0.890\n",
    "Score for talk.politics.misc: 0.020\n",
    "Score for comp.sys.mac.hardware: 0.020\n",
    "Score for soc.religion.christian: 0.020\n",
    "Score for sci.med: 0.020\n",
    "Text:\n",
    "\n",
    "You *know* that putting something like this out on the newsgroup is *only*\n",
    "going to generate flames, not discussion. Try adding some substance to\n",
    "the issue of \"gestures\" you mentioned.\n",
    "\n",
    "What is it you feel that Israel *has* offered as a \"gesture\"? What would\n",
    "you (*realistically*) expect to see presented by the Arabs/Palestinians\n",
    "in the way of \"gesture\"?\n",
    "\n",
    "\n",
    "What are the \"rules\" that have been bent by Arab actions? It would seem\n",
    "that the Israeli deportations were seen by the other side as an example\n",
    "of \"changing the rules\". \n",
    "\n",
    "\n",
    "\n",
    "█████████████████████████████████████████████████████\n",
    "Testing instance 13 - True class rec.motorcycles\n",
    "Score for sci.space: 0.120\n",
    "Score for rec.motorcycles: 0.120\n",
    "Score for rec.sport.baseball: 0.090\n",
    "Score for sci.electronics: 0.090\n",
    "Score for talk.politics.guns: 0.080\n",
    "Text:\n",
    "\n",
    "Accusation?  I thought it was a recommendation.  (I mean, I did grow up there,\n",
    "I oughta know).\n",
    "\n",
    "\n",
    "Bring the truck and about 10 pounds of crawfish and we'll talk.\n",
    "\n",
    "\n",
    "\n",
    "\n",
    "█████████████████████████████████████████████████████\n",
    "Testing instance 14 - True class alt.atheism\n",
    "Score for soc.religion.christian: 0.500\n",
    "Score for talk.religion.misc: 0.250\n",
    "Score for alt.atheism: 0.160\n",
    "Score for talk.politics.guns: 0.020\n",
    "Score for rec.sport.hockey: 0.020\n",
    "Text:\n",
    "\n",
    "Probably because it IS rape.\n",
    "\n",
    "\n",
    "So nothing.  It may work for some, but not for others: it doesn't give any\n",
    "insight into an overall God or overall truth of a religion- it would seem to be\n",
    "dependent solely on the individual, as well as individually-created.  And since\n",
    "Christians have failed to show us how there way of life is in any wy better\n",
    "than ours, I do not see why the attempt to try it is necessary, or even\n",
    "particularly attractive.\n",
    "\n",
    "\n",
    "Well, we will nerver know for sure if we were told the truth or not, but at the\n",
    "very least there is a bit more evidence pointing to the fact that, say, there\n",
    "was a military conflict in Vietnam 25 years ago, then there is a supernatural\n",
    "diety who wants us to live a certain way.  The fact that Jesus warned against\n",
    "it means nothing.  *I* warn against it too.  Big deal.\n",
    "\n",
    "\n",
    "This is not true.  The first two choices here (life and death) are scantily\n",
    "documented, and the last one is total malarky unless one uses the Bible, and\n",
    "that is totally circular.  Perhaps it be better to use the imagination, or\n",
    "one's ignorance.  Someone else will address this I'm sure, and refer you to\n",
    "plenty of documentation...\n",
    "\n",
    "\n",
    "How is this?  There is nothing more disgusting than Christian attempts to\n",
    "manipulate/interpret the Old Testament as being filled with signs for the\n",
    "coming of Christ.  Every little reference to a stick or bit of wood is\n",
    "autmoatically interpreted as the Cross.  What a miscarriage of philology.\n",
    "\n",
    "\n",
    "Well, since we have skeptical hearts (thank goodness,) there is no way to get\n",
    "into us.  Here we have the irreconcilable difference: Christians glorify\n",
    "exactly what we tend to despise or snub: trust/belief/faith without knowledge. \n",
    "If I am lucky one day and I happen to be thinking of God at the same time my\n",
    "enkephalins go up, then I may associate this as a sign of God (it will \"feel\"\n",
    "right, and I will trust without knowing).  Maybe.  Religosity does not seem to\n",
    "be anything that is conclusively arrived at, but rather it seems to be more of\n",
    "a sudden affliction...\n",
    "I believe many of us were willing to die for what we believed, many of us were\n",
    "not.  The question is, is suchg an attitude reflective of a _correct_ or\n",
    "healthy morality.  IT would seem not to be.  The same thing could reflect\n",
    "fanaticism, for example, and is any case an expression of simple selfishness.\n",
    "-- \n",
    "\n",
    "--Adam\n",
    "\n",
    "█████████████████████████████████████████████████████\n",
    "Testing instance 15 - True class comp.os.ms-windows.misc\n",
    "Score for comp.sys.ibm.pc.hardware: 0.340\n",
    "Score for comp.graphics: 0.170\n",
    "Score for comp.os.ms-windows.misc: 0.120\n",
    "Score for comp.sys.mac.hardware: 0.100\n",
    "Score for comp.windows.x: 0.060\n",
    "Text:\n",
    "From article <C68uBG.K2w@world.std.com>, by cfw@world.std.com (Christopher F Wroten):\n",
    "Good question.\n",
    "Answer: The EISA bus does move 32 bits rather than ISA's 8/(16?)\n",
    "        But it still moves it at about the speed as the ISA bus.\n",
    "        I think that's either 8 or 10 mhz.\n",
    "        The local bus designs also move 32 bits like the EISA, but\n",
    "        they move the data at the cpu speed, up to 40 mhz.\n",
    "        So, on a 33mhz cpu, the local bus is moving 32bit data at\n",
    "        33 mhz, and the EISA is moving 32bit data at 8 or 10 mhz.\n",
    "        So the local bus should be 3 to 4 times faster than EISA on\n",
    "        a 33 mhz cpu.  EISA should be about two (maybe 3) times as\n",
    "        fast as ISA.\n",
    "\n",
    "That's a very good question.  The EISA bus does have more advantages\n",
    "over the ISA bus than just it's width.  For example: more/better \n",
    "interrupts and bus mastering.  But these other factors do not impact\n",
    " a video card very much.  They have more impact on file servers with \n",
    "multiple hard drives, full-throttle network cards, cd-roms, etc.\n",
    "\n",
    "█████████████████████████████████████████████████████\n",
    "Testing instance 16 - True class comp.sys.mac.hardware\n",
    "Score for comp.os.ms-windows.misc: 0.220\n",
    "Score for comp.graphics: 0.190\n",
    "Score for comp.sys.ibm.pc.hardware: 0.070\n",
    "Score for comp.sys.mac.hardware: 0.070\n",
    "Score for alt.atheism: 0.040\n",
    "Text:\n",
    "Iv'e got a problem printing with a StyleWriterII. I am printing from a IIvx\n",
    "with 20 megs ram. I am trying to print a Quark file that has 2 fonts a couple\n",
    "of boxes and 3 gradient fills. \n",
    "\n",
    "Two things happen: I get a \" Disk is full\" error, that I can't find documented,\n",
    "I also have parts of letters that are over one of the gradient fills get cut\n",
    "off. This only happens to the text over the fill. Text adjecent in a different\n",
    "box is uneffected.\n",
    "\n",
    "Any ideas?\n",
    "\n",
    "█████████████████████████████████████████████████████\n",
    "Testing instance 17 - True class comp.graphics\n",
    "Score for rec.sport.baseball: 0.180\n",
    "Score for comp.graphics: 0.100\n",
    "Score for comp.windows.x: 0.070\n",
    "Score for sci.electronics: 0.070\n",
    "Score for rec.motorcycles: 0.060\n",
    "Text:\n",
    "Hello,\n",
    "i'm interested in those devices too.\n",
    "Could also send me your suggestions.\n",
    "Thank in advance.\n",
    "Regards.\n",
    "-- \n",
    "\n",
    "█████████████████████████████████████████████████████\n",
    "Testing instance 18 - True class misc.forsale\n",
    "Score for comp.sys.ibm.pc.hardware: 0.180\n",
    "Score for comp.sys.mac.hardware: 0.180\n",
    "Score for sci.electronics: 0.150\n",
    "Score for misc.forsale: 0.150\n",
    "Score for rec.motorcycles: 0.070\n",
    "Text:\n",
    "I said\n",
    "what a SILLY boy i was, now i have zillions of messages like\n",
    "\"does that include shipping\" \t\t\n",
    "\"is it scsi\"\n",
    "\"what rom version is it\"\n",
    "\"will it work on a maximegalon gargantuabrain 9000\"\n",
    "ok, the deal is this - if you live in the twin cities, email me, and set\n",
    "up a time, sure, you can drop round and grab one for a tenner.\n",
    "Else\n",
    "Min order $20 (2 drives) + shipping. No guarantees they are good for\n",
    "any purpose at all (they look newish & clean), no technical\n",
    "negotiations. They are model 525 floppytape, part # 960273-639\n",
    "revision D. 17 pin floppy style connector on the back\n",
    "Else\n",
    "They go in the bin - life is too short for extended negotiations over\n",
    "$10 items :-)\n",
    "cheers\n",
    "Mike.\n",
    "\n",
    "\n",
    "█████████████████████████████████████████████████████\n",
    "Testing instance 19 - True class talk.politics.guns\n",
    "Score for sci.electronics: 0.160\n",
    "Score for sci.space: 0.140\n",
    "Score for rec.sport.baseball: 0.090\n",
    "Score for rec.autos: 0.090\n",
    "Score for talk.politics.mideast: 0.070\n",
    "Text:\n",
    "I just called Texas' legislative bill tracking service and found out\n",
    "that HB 1776 (Concealed Carry) is scheduled for a floor vote TODAY!\n",
    "Let those phone calls roll in.\n",
    "\n",
    "Daryl\n",
    "```"
   ]
  },
  {
   "cell_type": "markdown",
   "metadata": {},
   "source": [
    "## Exercise\n",
    "Repeat the above, but this time for a message entered by the user"
   ]
  }
 ],
 "metadata": {
  "celltoolbar": "Slideshow",
  "kernelspec": {
   "display_name": "Python 3",
   "language": "python",
   "name": "python3"
  },
  "language_info": {
   "codemirror_mode": {
    "name": "ipython",
    "version": 3
   },
   "file_extension": ".py",
   "mimetype": "text/x-python",
   "name": "python",
   "nbconvert_exporter": "python",
   "pygments_lexer": "ipython3",
   "version": "3.6.5"
  }
 },
 "nbformat": 4,
 "nbformat_minor": 2
}
