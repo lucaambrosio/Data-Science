{
 "cells": [
  {
   "cell_type": "markdown",
   "metadata": {
    "slideshow": {
     "slide_type": "slide"
    }
   },
   "source": [
    "# Regressione Lineare Multipla\n"
   ]
  },
  {
   "cell_type": "markdown",
   "metadata": {
    "slideshow": {
     "slide_type": "-"
    }
   },
   "source": [
    "Regressione: modello utilizzato per identificare un legame funzionale tra un *attributo target* e un\n",
    "insieme di *attributi esplicativi*. Consente di effettuare previsioni circa i valori assunti dalla variabile target per determinati valori delle variabili esplicative.\n",
    "\n",
    "- *Attributo target*: anche noto come *variabile di risposta*, *output*, *variabile dipendente*\n",
    "- *Attributi esplicativi*: anche noti come *variabili indipendenti* o *predittori*.\n",
    "\n",
    "Diciamo regressione lineare **multipla** perche' oggi consideriamo uno **o piu'** attributi esplicativi.\n",
    "\n",
    "Diciamo regressione **lineare** perche' cerchiamo un legame lineare tra la variabile target e quella esplicativa."
   ]
  },
  {
   "cell_type": "markdown",
   "metadata": {
    "slideshow": {
     "slide_type": "slide"
    }
   },
   "source": [
    "## Notazione\n",
    "\n",
    "Chiamiamo $\\boldsymbol{y}$ la variabile target; i suoi valori su ciascuna delle $m$ osservazioni saranno $y_1, y_2, \\ldots, y_m$.\n",
    "\n",
    "Chiamiamo $\\boldsymbol{x}_1$, $\\boldsymbol{x}_2$, $\\boldsymbol{x}_n$ le variabili $n$ esplicative; i valori della $j$-esima variabile esplicativa su ciascuna delle $m$ osservazioni saranno $x_{j1}, x_{j2}, \\ldots, x_{jm}$.\n",
    "\n",
    "Cerchiamo una relazione $$\\boldsymbol{y} = b + w_1 \\boldsymbol{x}_1 + w_2 \\boldsymbol{x}_2 \\ldots + w_n \\boldsymbol{x}_n + \\boldsymbol{\\epsilon}$$ dove $\\epsilon$ e' noto come *scarto*, *errore* o *residuo*.  Vogliamo trovare $n+1$ scalari $b$ e $w_1, w_2, \\ldots w_n$ in modo che $\\boldsymbol{\\epsilon}$ sia il piu' piccolo possibile e che abbia valore atteso pari a $0$.\n",
    "\n",
    "Il singolo coefficiente $w_j$ rappresenta quanto varia la risposta $y$ al variare di $x_j$,\n",
    "**mantenendo tutte le altre variabili fisse**."
   ]
  },
  {
   "cell_type": "markdown",
   "metadata": {
    "slideshow": {
     "slide_type": "slide"
    }
   },
   "source": [
    "## Intuizione grafica\n",
    "\n",
    "Se $n=2$, graficamente, $y = f(x_1, x_2) = b + w_1 x_1 + w_2 x_2$ rappresenta un piano nello spazio.\n",
    "- $w_1$ e $w_2$ identificano la pendenza nel piano (servono due numeri, non ne basta uno come nel caso della retta!);\n",
    "- $b$ l'intercetta (valore di $y$ per $x_1 = x_2 = 0$).\n",
    "\n",
    "Graficamente, cosa rappresenta $\\boldsymbol{\\epsilon}$?"
   ]
  },
  {
   "cell_type": "markdown",
   "metadata": {
    "slideshow": {
     "slide_type": "slide"
    }
   },
   "source": [
    "## Esempio"
   ]
  },
  {
   "cell_type": "code",
   "execution_count": null,
   "metadata": {},
   "outputs": [],
   "source": [
    "# Setup\n",
    "import numpy as np\n",
    "np.set_printoptions(precision=2)\n",
    "import plotly.offline as py\n",
    "import plotly.graph_objs as go\n",
    "py.init_notebook_mode()\n",
    "import pandas as pd"
   ]
  },
  {
   "cell_type": "code",
   "execution_count": null,
   "metadata": {},
   "outputs": [],
   "source": [
    "# Leggiamo il dataset\n",
    "df = pd.read_table(\"http://users.stat.ufl.edu/~winner/data/stature_hand_foot.dat\",\n",
    "                   delim_whitespace=True, names = [\"id\", \"sex\", \"stature\", \"hand\", \"foot\"])\n",
    "x1 = df[\"hand\"].values # Variabile esplicativa 1\n",
    "x2 = df[\"foot\"].values # Variabile esplicativa 2\n",
    "y = df[\"stature\"].values # Variabile target"
   ]
  },
  {
   "cell_type": "code",
   "execution_count": null,
   "metadata": {
    "slideshow": {
     "slide_type": "slide"
    }
   },
   "outputs": [],
   "source": [
    "# ... oppure generiamo un dataset sintetico\n",
    "x1 = np.random.rand(100)\n",
    "x2 = np.random.rand(100)\n",
    "y = 3 + 1*x1 + 2*x2\n"
   ]
  },
  {
   "cell_type": "code",
   "execution_count": null,
   "metadata": {
    "cell_style": "center",
    "slideshow": {
     "slide_type": "slide"
    }
   },
   "outputs": [],
   "source": [
    "# Disegnamo uno scatter plot in 3D\n",
    "data = [go.Scatter3d(...)]\n",
    "layout = go.Layout(\n",
    "    scene = dict(\n",
    "        xaxis = dict(title=\"\"),\n",
    "        yaxis = dict(title=\"\"),\n",
    "        zaxis = dict(title=\"\")\n",
    "    )\n",
    ")\n",
    "fig = go.Figure(data, layout)\n",
    "py.iplot(fig)"
   ]
  },
  {
   "cell_type": "code",
   "execution_count": null,
   "metadata": {
    "slideshow": {
     "slide_type": "slide"
    }
   },
   "outputs": [],
   "source": [
    "# Disegnamo uno scatter plot in 3D\n",
    "data = [\n",
    "    go.Scatter3d(x=x1, y=x2, z=y, mode=\"markers\", name=\"data\",\n",
    "                 marker=dict(size=3)),\n",
    "]\n",
    "layout = go.Layout(\n",
    "    scene = dict(\n",
    "        xaxis = dict(title=\"Hand length [mm]: variabile esplicativa\"),\n",
    "        yaxis = dict(title=\"Foot length [mm]: variabile esplicativa\"),\n",
    "        zaxis = dict(title=\"Height [mm]: variabile target\")\n",
    "    )\n",
    ")\n",
    "fig = go.Figure(data, layout)\n",
    "py.iplot(fig)"
   ]
  },
  {
   "cell_type": "markdown",
   "metadata": {
    "slideshow": {
     "slide_type": "slide"
    }
   },
   "source": [
    "### Esercizio: dati $b$, $w_1$ e $w_2$, disegna per ogni osservazione il valore $f(x)$"
   ]
  },
  {
   "cell_type": "code",
   "execution_count": null,
   "metadata": {},
   "outputs": [],
   "source": [
    "b = 650 # Scelto in modo arbitrario\n",
    "w1 = 5 # Scelto in modo arbitrario: prova a cmabiarlo e assicurati che si comporti come ti aspetti\n",
    "w2 = 0\n",
    "\n",
    "y_hat = ...\n",
    "\n",
    "data = [\n",
    "    go.Scatter3d(...),\n",
    "    go.Scatter3d(...)\n",
    "]\n",
    "\n",
    "\n",
    "layout = go.Layout(scene = dict(\n",
    "        xaxis = dict(title=\"\"),\n",
    "        yaxis = dict(title=\"\"),\n",
    "        zaxis = dict(title=\"\")\n",
    "    ))\n",
    "fig = go.Figure(data, layout)\n",
    "py.iplot(fig)"
   ]
  },
  {
   "cell_type": "code",
   "execution_count": null,
   "metadata": {
    "slideshow": {
     "slide_type": "slide"
    }
   },
   "outputs": [],
   "source": [
    "# Soluzione all'esercizio\n",
    "b = 650 # Scelto in modo arbitrario\n",
    "w1 = 5 # Scelto in modo arbitrario: prova a cmabiarlo e assicurati che si comporti come ti aspetti\n",
    "w2 = 0\n",
    "\n",
    "y_hat = b + w1*x1 + w2*x2\n",
    "\n",
    "#x1_line = np.array([np.min(x1), np.max(x1)]) # Prova a modificare gli estremi, per estrapolare la linea\n",
    "#y_line = b + w*x_line\n",
    "\n",
    "data = [\n",
    "    go.Scatter3d(x=x1, y=x2, z=y, mode=\"markers\", name=\"data\",\n",
    "                 marker=dict(size=3)),\n",
    "    go.Scatter3d(x=x1, y=x2, z=y_hat, mode=\"markers\", name=\"estimate\",\n",
    "                 marker=dict(size=3)),\n",
    "]\n",
    "\n",
    "\n",
    "layout = go.Layout(scene = dict(\n",
    "        xaxis = dict(title=\"Hand length [mm]: variabile esplicativa\"),\n",
    "        yaxis = dict(title=\"Foot length [mm]: variabile esplicativa\"),\n",
    "        zaxis = dict(title=\"Height [mm]: variabile target\")\n",
    "    ))\n",
    "fig = go.Figure(data, layout)\n",
    "py.iplot(fig)"
   ]
  },
  {
   "cell_type": "markdown",
   "metadata": {
    "cell_style": "split",
    "slideshow": {
     "slide_type": "slide"
    }
   },
   "source": [
    "## Come si calcolano i coefficienti?\n",
    "\n",
    "Utilizziamo l'oggetto `sklearn.linear_model.LinearRegression`\n",
    "\n",
    "Documentazione:\n",
    "- [Costruttore](http://scikit-learn.org/stable/modules/generated/sklearn.linear_model.LinearRegression.html#sklearn-linear-model-linearregression)\n",
    "- Metodo per stimare i parametri ([`fit`](http://scikit-learn.org/stable/modules/generated/sklearn.linear_model.LinearRegression.html#sklearn.linear_model.LinearRegression.fit))"
   ]
  },
  {
   "attachments": {
    "image.png": {
     "image/png": "[encoded data removed]"
    }
   },
   "cell_type": "markdown",
   "metadata": {
    "cell_style": "split"
   },
   "source": [
    "![image.png](attachment:image.png)"
   ]
  },
  {
   "cell_type": "code",
   "execution_count": null,
   "metadata": {},
   "outputs": [],
   "source": [
    "# Come faccio ad ottenere X?\n",
    "X = "
   ]
  },
  {
   "cell_type": "code",
   "execution_count": null,
   "metadata": {
    "slideshow": {
     "slide_type": "slide"
    }
   },
   "outputs": [],
   "source": [
    "import sklearn\n",
    "import sklearn.linear_model\n",
    "reg = sklearn.linear_model.LinearRegression()\n",
    "reg.fit(X,y)"
   ]
  },
  {
   "cell_type": "raw",
   "metadata": {
    "slideshow": {
     "slide_type": "fragment"
    }
   },
   "source": [
    "b = reg.intercept_\n",
    "w = reg.coef_\n",
    "w1 = w[0]\n",
    "w2 = w[1]\n",
    "print(w1,w2)"
   ]
  },
  {
   "cell_type": "code",
   "execution_count": null,
   "metadata": {
    "slideshow": {
     "slide_type": "slide"
    }
   },
   "outputs": [],
   "source": [
    "# Come faccio a stimare y_hat?"
   ]
  },
  {
   "cell_type": "code",
   "execution_count": null,
   "metadata": {
    "slideshow": {
     "slide_type": "slide"
    }
   },
   "outputs": [],
   "source": [
    "y_hat = b + w1 * x1 + w2 * x2\n",
    "y_hat_alternativo = reg.predict(x)"
   ]
  },
  {
   "cell_type": "code",
   "execution_count": null,
   "metadata": {},
   "outputs": [],
   "source": [
    "print(y_hat == y_hat_alternativo)\n",
    "assert np.all(np.isclose(y_hat, y_hat_alternativo))"
   ]
  },
  {
   "cell_type": "code",
   "execution_count": null,
   "metadata": {},
   "outputs": [],
   "source": [
    "y_hat = b + w1*x1 + w2*x2\n",
    "\n",
    "#x1_line = np.array([np.min(x1), np.max(x1)]) # Prova a modificare gli estremi, per estrapolare la linea\n",
    "#y_line = b + w*x_line\n",
    "\n",
    "data = [\n",
    "    go.Scatter3d(x=x1, y=x2, z=y, mode=\"markers\", name=\"data\",\n",
    "                 marker=dict(size=3)),\n",
    "    go.Scatter3d(x=x1, y=x2, z=y_hat, mode=\"markers\", name=\"estimate\",\n",
    "                 marker=dict(size=3)),\n",
    "]\n",
    "\n",
    "# Disegnamo le linee verticali corrispondenti agli errori (residui)\n",
    "for i in range(len(x1)):\n",
    "    data.append(go.Scatter3d(x=[x1, x1], y=[x2, x2], z=[y, y_hat], mode=\"lines\",\n",
    "        showlegend=False, line=dict(color=\"gray\", width=0.5)))\n",
    "\n",
    "layout = go.Layout(scene = dict(\n",
    "        xaxis = dict(title=\"Hand length [mm]: variabile esplicativa\"),\n",
    "        yaxis = dict(title=\"Foot length [mm]: variabile esplicativa\"),\n",
    "        zaxis = dict(title=\"Height [mm]: variabile target\")\n",
    "    ))\n",
    "fig = go.Figure(data, layout)\n",
    "py.iplot(fig)"
   ]
  },
  {
   "cell_type": "markdown",
   "metadata": {
    "slideshow": {
     "slide_type": "slide"
    }
   },
   "source": [
    "## Un link per costruirsi l'intuizione sulla regressione lineare\n",
    "http://setosa.io/ev/ordinary-least-squares-regression/"
   ]
  },
  {
   "cell_type": "markdown",
   "metadata": {
    "slideshow": {
     "slide_type": "slide"
    }
   },
   "source": [
    "## Valutare la bonta' di una regressione: il coefficiente di determinazione (aka coefficiente $R^2$)\n",
    "\n",
    "Il coefficiente di determinazione, denominato anche $R^2$ multiplo, rappresenta la percentuale di varianza totale spiegata da parte delle variabili predittive, e quindi da parte del modello.\n",
    "\n",
    "$$R^2 = 1 - \\frac{\\sum_{i=1}^{m} (\\hat{y}_i - y_i)^2}{\\sum_{i=1}^{m} (\\bar{y} - y_i)^2}$$\n",
    "\n",
    "Assume valori compresi nell’intervallo $[0,1]$:\n",
    "- nel caso in cui per un modello il valore assunto dal coefficiente di determinazione sia molto prossimo ad uno, allora il modello di regressione spiega una larga parte della variazione presente nella variabile target.\n",
    "- al contrario, se tale valore e' molto prossimo a zero, allora il modello di regressione non serve a nulla.\n",
    "\n",
    "**Il coefficiente di determinazione tende a crescere all’aumentare del numero di variabili incluse nel modello di regressione lineare (che abbiamo chiamato $n$ qui sopra).**"
   ]
  },
  {
   "cell_type": "code",
   "execution_count": null,
   "metadata": {
    "slideshow": {
     "slide_type": "slide"
    }
   },
   "outputs": [],
   "source": [
    "# Verifica: calcoliamo come varia l'SSE usando solo x1, usando solo x2, oppure usando entrambi"
   ]
  },
  {
   "cell_type": "code",
   "execution_count": null,
   "metadata": {
    "slideshow": {
     "slide_type": "slide"
    }
   },
   "outputs": [],
   "source": [
    "# Soluzione (qui usiamo anche x3)\n",
    "x3 = df[\"id\"].values # Variabile esplicativa 3\n",
    "reg = sklearn.linear_model.LinearRegression()\n",
    "x = np.hstack((x1.reshape(-1,1),x2.reshape(-1, 1),x3.reshape(-1, 1)))\n",
    "reg.fit(x,y)\n",
    "y_hat = reg.predict(x)\n",
    "np.sum((y_hat - y)**2)\n",
    "r_sq = 1 - np.sum((y_hat - y)**2)/np.sum((np.mean(y) - y)**2)\n",
    "r_sq"
   ]
  },
  {
   "cell_type": "markdown",
   "metadata": {
    "slideshow": {
     "slide_type": "slide"
    }
   },
   "source": [
    "Avanzato: una applicazione interessante di un problema di regressione: \n",
    "[link](http://scikit-learn.org/stable/auto_examples/plot_multioutput_face_completion.html#sphx-glr-auto-examples-plot-multioutput-face-completion-py)"
   ]
  }
 ],
 "metadata": {
  "celltoolbar": "Slideshow",
  "kernelspec": {
   "display_name": "Python 3",
   "language": "python",
   "name": "python3"
  },
  "language_info": {
   "codemirror_mode": {
    "name": "ipython",
    "version": 3
   },
   "file_extension": ".py",
   "mimetype": "text/x-python",
   "name": "python",
   "nbconvert_exporter": "python",
   "pygments_lexer": "ipython3",
   "version": "3.6.5"
  }
 },
 "nbformat": 4,
 "nbformat_minor": 2
}
